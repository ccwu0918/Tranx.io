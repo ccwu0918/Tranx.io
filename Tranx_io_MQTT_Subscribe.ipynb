{
  "nbformat": 4,
  "nbformat_minor": 0,
  "metadata": {
    "colab": {
      "provenance": [],
      "authorship_tag": "ABX9TyPu+t/PUFxDLiuCWj//fZw9",
      "include_colab_link": true
    },
    "kernelspec": {
      "name": "python3",
      "display_name": "Python 3"
    },
    "language_info": {
      "name": "python"
    }
  },
  "cells": [
    {
      "cell_type": "markdown",
      "metadata": {
        "id": "view-in-github",
        "colab_type": "text"
      },
      "source": [
        "<a href=\"https://colab.research.google.com/github/ccwu0918/Tranx.io/blob/main/Tranx_io_MQTT_Subscribe.ipynb\" target=\"_parent\"><img src=\"https://colab.research.google.com/assets/colab-badge.svg\" alt=\"Open In Colab\"/></a>"
      ]
    },
    {
      "cell_type": "markdown",
      "source": [
        "# 使用 Python 進行 MQTT Publish & Subscribe\n",
        "\n",
        "參考資料：\n",
        "\n",
        "1.   https://ithelp.ithome.com.tw/m/articles/10227131\n",
        "2.   https://www.eclipse.org/paho/clients/python/docs/"
      ],
      "metadata": {
        "id": "q9Vz0QKC-uXs"
      }
    },
    {
      "cell_type": "markdown",
      "source": [
        "[AI-Powered Data Platform | Tranx](https://www.tranx.io/zh)"
      ],
      "metadata": {
        "id": "77HMhQ9vBQOe"
      }
    },
    {
      "cell_type": "markdown",
      "source": [
        "## 安裝MQTT套件\n",
        "\n",
        "```\n",
        "!pip install paho-mqtt\n",
        "```\n",
        "或者\n",
        "```\n",
        "!pip3 install paho-mqtt\n",
        "```"
      ],
      "metadata": {
        "id": "qLpm1X3Y-5UY"
      }
    },
    {
      "cell_type": "code",
      "execution_count": 1,
      "metadata": {
        "colab": {
          "base_uri": "https://localhost:8080/"
        },
        "id": "P5UViBdF-swM",
        "outputId": "893ca9c6-22d0-4c19-fa4c-b8f84057845f"
      },
      "outputs": [
        {
          "output_type": "stream",
          "name": "stdout",
          "text": [
            "Looking in indexes: https://pypi.org/simple, https://us-python.pkg.dev/colab-wheels/public/simple/\n",
            "Collecting paho-mqtt\n",
            "  Downloading paho-mqtt-1.6.1.tar.gz (99 kB)\n",
            "\u001b[2K     \u001b[90m━━━━━━━━━━━━━━━━━━━━━━━━━━━━━━━━━━━━━━━━\u001b[0m \u001b[32m99.4/99.4 kB\u001b[0m \u001b[31m3.2 MB/s\u001b[0m eta \u001b[36m0:00:00\u001b[0m\n",
            "\u001b[?25h  Preparing metadata (setup.py) ... \u001b[?25l\u001b[?25hdone\n",
            "Building wheels for collected packages: paho-mqtt\n",
            "  Building wheel for paho-mqtt (setup.py) ... \u001b[?25l\u001b[?25hdone\n",
            "  Created wheel for paho-mqtt: filename=paho_mqtt-1.6.1-py3-none-any.whl size=62118 sha256=32e7dcb3527b68d439646833066e4d94fe222464d5d28b1bdd0ae9e8eb0e6919\n",
            "  Stored in directory: /root/.cache/pip/wheels/8b/bb/0c/79444d1dee20324d442856979b5b519b48828b0bd3d05df84a\n",
            "Successfully built paho-mqtt\n",
            "Installing collected packages: paho-mqtt\n",
            "Successfully installed paho-mqtt-1.6.1\n"
          ]
        }
      ],
      "source": [
        "!pip install paho-mqtt\n",
        "# 或者\n",
        "# !pip3 install paho-mqtt"
      ]
    },
    {
      "cell_type": "code",
      "source": [
        "# Tranx.io API 使用者帳號密碼\n",
        "User_Name = \"User Account\"\n",
        "API_Key  = \"User Password\""
      ],
      "metadata": {
        "id": "XhLAYARD-6_s"
      },
      "execution_count": 2,
      "outputs": []
    },
    {
      "cell_type": "markdown",
      "source": [
        "# MQTT Subscribe"
      ],
      "metadata": {
        "id": "UYloxJzOAUJx"
      }
    },
    {
      "cell_type": "code",
      "source": [
        "import paho.mqtt.client as mqtt\n",
        "import time\n",
        "import ssl\n",
        "import certifi \n",
        "\n",
        "# mqtt_host = \"broker.emqx.io\"\n",
        "# mqtt_host = \"mqttgo.io\"\n",
        "mqtt_host = \"mqtt.xplatform.tranx.io\"\n",
        "mqtt_ssl_host = \"mqttssl.xplatform.tranx.io\"\n",
        "\n",
        "discovery_prefix = API_Key\n",
        "# component = 'sensor'\n",
        "node_id = 'Temp_and_Humi'\n",
        "mqtt_topic_template = discovery_prefix + \"/\"  + node_id\n",
        "\n",
        "# 當地端程式連線伺服器得到回應時，要做的動作\n",
        "def on_connect(client, userdata, flags, rc):\n",
        "    print(\"Connected with result code \"+str(rc))\n",
        "\n",
        "    # 將訂閱主題寫在on_connet中\n",
        "    # 如果我們失去連線或重新連線時 \n",
        "    # 地端程式將會重新訂閱\n",
        "    # client.subscribe(\"ccwu0918/#\")    \n",
        "    # client.subscribe([(\"ccwu0918/inventer01\", 0), (\"ccwu0918/inventer02\", 0)])   \n",
        "    client.subscribe(discovery_prefix + \"/\" + \"Temp_and_Humi\")    \n",
        "\n",
        "def on_log(client, userdata, level, buf):\n",
        "  print(\"log: \", buf)\n",
        "\n",
        "# 當接收到從伺服器發送的訊息時要進行的動作\n",
        "def on_message(client, userdata, msg):\n",
        "    # 轉換編碼utf-8才看得懂中文\n",
        "    print(msg.topic + \" \" + msg.payload.decode('utf-8'))\n",
        "\n",
        "# 連線設定\n",
        "# 初始化地端程式\n",
        "client = mqtt.Client()\n",
        "\n",
        "# 設定連線的動作\n",
        "client.on_connect = on_connect\n",
        "\n",
        "# 設定接收訊息的動作\n",
        "client.on_message = on_message\n",
        "\n",
        "# client.on_log = on_log\n",
        "\n",
        "# 設定登入帳號密碼\n",
        "# client.username_pw_set(\"User_Name\", \"User_Password\")\n",
        "client.username_pw_set(User_Name, API_Key)\n",
        "\n",
        "# 設定 SSL/TLS 加密連線\n",
        "# client.tls_set()\n",
        "\n",
        "# 設定連線資訊(IP, Port, 連線時間)\n",
        "# client.connect(mqtt_host, 1883, 60)\n",
        "# client.connect(mqtt_ssl_host, port=8883, keepalive=60)\n",
        "client.connect(mqtt_host, port=1883, keepalive=60)\n",
        "\n",
        "# 開始連線，執行設定的動作和處理重新連線問題\n",
        "# 也可以手動使用其他loop函式來進行連接\n",
        "client.loop_forever()"
      ],
      "metadata": {
        "id": "bub7FXwR-9QH"
      },
      "execution_count": null,
      "outputs": []
    }
  ]
}