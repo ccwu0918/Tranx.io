{
  "nbformat": 4,
  "nbformat_minor": 0,
  "metadata": {
    "colab": {
      "provenance": [],
      "authorship_tag": "ABX9TyPnfv7UUeyNME7o9PE9r6Ze",
      "include_colab_link": true
    },
    "kernelspec": {
      "name": "python3",
      "display_name": "Python 3"
    },
    "language_info": {
      "name": "python"
    }
  },
  "cells": [
    {
      "cell_type": "markdown",
      "metadata": {
        "id": "view-in-github",
        "colab_type": "text"
      },
      "source": [
        "<a href=\"https://colab.research.google.com/github/ccwu0918/Tranx.io/blob/main/Tranx_io_REST_API_Post.ipynb\" target=\"_parent\"><img src=\"https://colab.research.google.com/assets/colab-badge.svg\" alt=\"Open In Colab\"/></a>"
      ]
    },
    {
      "cell_type": "markdown",
      "source": [
        "# 使用 Python 進行 REST API Post & Get\n"
      ],
      "metadata": {
        "id": "fLpKsNnF_7Co"
      }
    },
    {
      "cell_type": "markdown",
      "source": [
        "[AI-Powered Data Platform | Tranx](https://www.tranx.io/zh)"
      ],
      "metadata": {
        "id": "YarbEW9DBJwH"
      }
    },
    {
      "cell_type": "code",
      "execution_count": 2,
      "metadata": {
        "id": "4yuC7p8kNPSh"
      },
      "outputs": [],
      "source": [
        "# Tranx.io API 使用者帳號密碼\n",
        "User_Name = \"User Account\"\n",
        "API_Key  = \"User Password\""
      ]
    },
    {
      "cell_type": "markdown",
      "source": [
        "# REST API Post："
      ],
      "metadata": {
        "id": "kzrQsSCSAQ3W"
      }
    },
    {
      "cell_type": "code",
      "source": [
        "import requests\n",
        "import re\n",
        "import json\n",
        "import time\n",
        "import random\n",
        "\n",
        "# 設置日期時間的格式\n",
        "ISOTIMEFORMAT = '%y-%m-%d %H:%M:%S'\n",
        "\n",
        "headers = {\n",
        "   \"Content-Type\": \"application/json\", \n",
        "   \"accept\": \"*/*\",\n",
        "   \"x-api-key\": API_Key \n",
        "}\n",
        "\n",
        "while True:\n",
        "  Temperature = random.randint(20, 30)\n",
        "  Humidity = random.randint(50, 70)\n",
        "  payload = {'Temperature': Temperature, 'Humidity': Humidity}\n",
        "\n",
        "  r = requests.post(\"https://api.xplatform.tranx.io/staging/Temp_and_Humi\", headers=headers, data=json.dumps(payload))\n",
        "  print(\"Rest API Payload:\" + json.dumps(payload))\n",
        "  print(\"Status Code\", r.status_code)\n",
        "  print(\"JSON Response \", r.json())\n",
        "\n",
        "  # 等待10秒發送一次資料\n",
        "  # print(\"sleep 10 seconds.\")\n",
        "  time.sleep(10)\n",
        "  # print(\"printed after 10 seconds.\")  "
      ],
      "metadata": {
        "id": "AqVGafyKAPGn"
      },
      "execution_count": null,
      "outputs": []
    }
  ]
}