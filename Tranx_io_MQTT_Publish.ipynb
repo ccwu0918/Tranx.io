{
  "nbformat": 4,
  "nbformat_minor": 0,
  "metadata": {
    "colab": {
      "provenance": [],
      "authorship_tag": "ABX9TyNBsyRLkqR/1HiDWRXvyfjY",
      "include_colab_link": true
    },
    "kernelspec": {
      "name": "python3",
      "display_name": "Python 3"
    },
    "language_info": {
      "name": "python"
    }
  },
  "cells": [
    {
      "cell_type": "markdown",
      "metadata": {
        "id": "view-in-github",
        "colab_type": "text"
      },
      "source": [
        "<a href=\"https://colab.research.google.com/github/ccwu0918/Tranx.io/blob/main/Tranx_io_MQTT_Publish.ipynb\" target=\"_parent\"><img src=\"https://colab.research.google.com/assets/colab-badge.svg\" alt=\"Open In Colab\"/></a>"
      ]
    },
    {
      "cell_type": "markdown",
      "source": [
        "# 使用 Python 進行 MQTT Publish & Subscribe\n",
        "\n",
        "參考資料：\n",
        "\n",
        "1.   https://ithelp.ithome.com.tw/m/articles/10227131\n",
        "2.   https://www.eclipse.org/paho/clients/python/docs/"
      ],
      "metadata": {
        "id": "fLpKsNnF_7Co"
      }
    },
    {
      "cell_type": "markdown",
      "source": [
        "[AI-Powered Data Platform | Tranx](https://www.tranx.io/zh)"
      ],
      "metadata": {
        "id": "YarbEW9DBJwH"
      }
    },
    {
      "cell_type": "markdown",
      "source": [
        "## 安裝MQTT套件\n",
        "\n",
        "```\n",
        "!pip install paho-mqtt\n",
        "```\n",
        "或者\n",
        "```\n",
        "!pip3 install paho-mqtt\n",
        "```"
      ],
      "metadata": {
        "id": "DgpaJPL6ACRo"
      }
    },
    {
      "cell_type": "code",
      "execution_count": 1,
      "metadata": {
        "colab": {
          "base_uri": "https://localhost:8080/"
        },
        "id": "ZbC_uegXBDOB",
        "outputId": "ad1d0b56-cc77-4540-82c0-717c0d12d4af"
      },
      "outputs": [
        {
          "output_type": "stream",
          "name": "stdout",
          "text": [
            "Looking in indexes: https://pypi.org/simple, https://us-python.pkg.dev/colab-wheels/public/simple/\n",
            "Collecting paho-mqtt\n",
            "  Downloading paho-mqtt-1.6.1.tar.gz (99 kB)\n",
            "\u001b[2K     \u001b[90m━━━━━━━━━━━━━━━━━━━━━━━━━━━━━━━━━━━━━━━━\u001b[0m \u001b[32m99.4/99.4 kB\u001b[0m \u001b[31m6.1 MB/s\u001b[0m eta \u001b[36m0:00:00\u001b[0m\n",
            "\u001b[?25h  Preparing metadata (setup.py) ... \u001b[?25l\u001b[?25hdone\n",
            "Building wheels for collected packages: paho-mqtt\n",
            "  Building wheel for paho-mqtt (setup.py) ... \u001b[?25l\u001b[?25hdone\n",
            "  Created wheel for paho-mqtt: filename=paho_mqtt-1.6.1-py3-none-any.whl size=62118 sha256=184d210aa08c1235d735f1cf6cc78830b70b4803783a92f80f467dab1fd32489\n",
            "  Stored in directory: /root/.cache/pip/wheels/8b/bb/0c/79444d1dee20324d442856979b5b519b48828b0bd3d05df84a\n",
            "Successfully built paho-mqtt\n",
            "Installing collected packages: paho-mqtt\n",
            "Successfully installed paho-mqtt-1.6.1\n"
          ]
        }
      ],
      "source": [
        "!pip install paho-mqtt\n",
        "# 或者\n",
        "# !pip3 install paho-mqtt"
      ]
    },
    {
      "cell_type": "code",
      "execution_count": 2,
      "metadata": {
        "id": "4yuC7p8kNPSh"
      },
      "outputs": [],
      "source": [
        "# Tranx.io API 使用者帳號密碼\n",
        "User_Name = \"User Account\"\n",
        "API_Key  = \"User Password\""
      ]
    },
    {
      "cell_type": "markdown",
      "source": [
        "# MQTT Publish"
      ],
      "metadata": {
        "id": "kzrQsSCSAQ3W"
      }
    },
    {
      "cell_type": "code",
      "source": [
        "import paho.mqtt.client as mqtt #import the client1\n",
        "import json\n",
        "import time\n",
        "import random\n",
        "import ssl\n",
        "import certifi\n",
        "\n",
        "# 設置日期時間的格式\n",
        "ISOTIMEFORMAT = '%y-%m-%d %H:%M:%S'\n",
        "\n",
        "# MQTT\n",
        "mqtt_client_name = \"Tranx.io\"\n",
        "# mqtt_host = \"broker.emqx.io\"\n",
        "# mqtt_host = \"mqttgo.io\"\n",
        "mqtt_host = \"mqtt.xplatform.tranx.io\"\n",
        "mqtt_ssl_host = \"mqttssl.xplatform.tranx.io\"\n",
        "\n",
        "discovery_prefix = API_Key\n",
        "# component = 'sensor'\n",
        "node_id = 'Temp_and_Humi'\n",
        "mqtt_topic_template = discovery_prefix + \"/\"  + node_id\n",
        "\n",
        "def on_log(client, userdata, level, buf):\n",
        "  print(\"log: \", buf)\n",
        "\n",
        "# 連線設定\n",
        "# 初始化地端程式\n",
        "client = mqtt.Client(mqtt_client_name)\n",
        "\n",
        "# 設定登入帳號密碼\n",
        "# client.username_pw_set(\"User_Name\", \"User_Password\")\n",
        "client.username_pw_set(User_Name, API_Key)\n",
        "\n",
        "# client.on_log = on_log\n",
        "\n",
        "# 設定 SSL/TLS 加密連線\n",
        "# client.tls_set()\n",
        "# client.tls_set(\"/content/certificate.pem.crt\", tls_version=ssl.PROTOCOL_TLSv1_2)\n",
        "# client.tls_set(certifi.where())\n",
        "# client.tls_insecure_set(True)\n",
        "\n",
        "# 設定連線資訊(IP, Port, 連線時間)\n",
        "# client.connect(\"mqtt.xplatform.tranx.io\", 1883, 60)\n",
        "# client.connect(mqtt_ssl_host, port=8883, keepalive=60)\n",
        "client.connect(mqtt_host, port=1883, keepalive=60)\n",
        "\n",
        "while True:\n",
        "  mqtt_topic = str( mqtt_topic_template)\n",
        "  payload_dict = {}\n",
        "  Temperature = random.randint(20, 30)\n",
        "  payload_dict['Temperature'] = Temperature\n",
        "  Humidity = random.randint(50, 70)\n",
        "  payload_dict['Humidity'] = Humidity\n",
        "  payload_json = json.dumps(payload_dict)\n",
        "  mqtt_payload = str(payload_json)\n",
        "\n",
        "  print(\"mqtt_topic:\" + mqtt_topic)\n",
        "  print(\"mqtt_payload:\" + mqtt_payload)\n",
        "\n",
        "  client.publish(mqtt_topic, mqtt_payload)\n",
        "\n",
        "  # 等待10秒發送一次資料\n",
        "  # print(\"sleep 10 seconds.\")\n",
        "  time.sleep(10)\n",
        "  # print(\"printed after 10 seconds.\")"
      ],
      "metadata": {
        "id": "AqVGafyKAPGn"
      },
      "execution_count": null,
      "outputs": []
    }
  ]
}